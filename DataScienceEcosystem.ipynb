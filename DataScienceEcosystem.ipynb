{
  "nbformat": 4,
  "nbformat_minor": 0,
  "metadata": {
    "colab": {
      "provenance": []
    },
    "kernelspec": {
      "name": "python3",
      "display_name": "Python 3"
    },
    "language_info": {
      "name": "python"
    }
  },
  "cells": [
    {
      "cell_type": "markdown",
      "source": [
        "#  Data Science Tools and Ecosystem"
      ],
      "metadata": {
        "id": "CPWYkHIF-AGD"
      }
    },
    {
      "cell_type": "markdown",
      "source": [
        "In this notebook, Data Science Tools and Ecosystem are summarized"
      ],
      "metadata": {
        "id": "LkipIkJR-VDD"
      }
    },
    {
      "cell_type": "markdown",
      "source": [
        "Some of the popular languages that Data Scientists use are:\n",
        "1. R\n",
        "2. Python\n",
        "3. SQL"
      ],
      "metadata": {
        "id": "vlwdTesf-c1L"
      }
    },
    {
      "cell_type": "markdown",
      "source": [
        "Some of the commonly used libraries used by Data Scientists include:\n",
        "1. Numpy\n",
        "2. Pandas\n",
        "3. scikit-learn\n"
      ],
      "metadata": {
        "id": "nUr9ai6w-v0z"
      }
    },
    {
      "cell_type": "markdown",
      "source": [
        "| Data Science Tools|\n",
        "---------------------\n",
        "|Jupyter|\n",
        "|Tableau Public|\n",
        "|Apache Spark|\n"
      ],
      "metadata": {
        "id": "2nG5fnlH-6X7"
      }
    },
    {
      "cell_type": "markdown",
      "source": [
        "### Below are a few examples of evaluating arithmetic expressions in Python.\n"
      ],
      "metadata": {
        "id": "1AAqfi1F_B0D"
      }
    },
    {
      "cell_type": "code",
      "source": [
        " # This a simple arithmetic expression to mutiply then add integers.\n",
        "(3*4)+5"
      ],
      "metadata": {
        "colab": {
          "base_uri": "https://localhost:8080/"
        },
        "id": "x9COaTLH_J-D",
        "outputId": "7a0705ad-ed31-441e-e68d-ff067dcec688"
      },
      "execution_count": 1,
      "outputs": [
        {
          "output_type": "execute_result",
          "data": {
            "text/plain": [
              "17"
            ]
          },
          "metadata": {},
          "execution_count": 1
        }
      ]
    },
    {
      "cell_type": "code",
      "source": [
        "# This will convert 200 minutes to hours by diving by 60\n",
        "float(200/60)"
      ],
      "metadata": {
        "colab": {
          "base_uri": "https://localhost:8080/"
        },
        "id": "7WZcQvZ6_VBT",
        "outputId": "885862e8-5459-47bf-c6d2-39393d1ce5f4"
      },
      "execution_count": 2,
      "outputs": [
        {
          "output_type": "execute_result",
          "data": {
            "text/plain": [
              "3.3333333333333335"
            ]
          },
          "metadata": {},
          "execution_count": 2
        }
      ]
    },
    {
      "cell_type": "markdown",
      "source": [
        "**Objectives:**\n",
        "- Numpy\n",
        "- Pandas\n",
        "- scikit-learn\n"
      ],
      "metadata": {
        "id": "kfivkw1q_gTT"
      }
    },
    {
      "cell_type": "markdown",
      "source": [
        "## Author\n",
        "Ting Hao Howard KANG"
      ],
      "metadata": {
        "id": "QIdtEFt8_3Lb"
      }
    }
  ]
}